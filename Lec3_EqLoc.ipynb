{
 "cells": [
  {
   "cell_type": "markdown",
   "id": "738f5ac1",
   "metadata": {},
   "source": [
    "# Non-linear inverse problem: Earthquake location"
   ]
  },
  {
   "cell_type": "markdown",
   "id": "c76b3509",
   "metadata": {},
   "source": [
    "$$\\mathbf{m} = (x, y, z, t)$$\n",
    "\n",
    "$$\n",
    "G_{ij} = \\frac{\\partial d_i}{\\partial m_j}|_{\\mathbf{m}^1}\n",
    "$$\n",
    "\n",
    "$$\n",
    "\\Delta \\mathbf{d}^1 = G \\Delta \\mathbf{m}^1\n",
    "$$\n",
    "\n",
    "$$\n",
    "d_i = T(\\mathbf{x}, \\mathbf{x}_i) + t = \\frac{1}{v}[(x - x_i)^2 + (y - y_i)^2 + z^2]^{1/2} + t.\n",
    "$$\n",
    "\n",
    "$$\n",
    "G_{i1} = \\frac{\\partial d_i}{\\partial m_1} = \\frac{\\partial d_i}{\\partial x} = \\frac{T(\\mathbf{x}, \\mathbf{x}_i)}{\\partial x} = \\frac{(x-x_i)}{v}[(x - x_i)^2 + (y - y_i)^2 + z^2]^{-1/2}\n",
    "$$\n",
    "\n",
    "$$\n",
    "G_{i2} = \\frac{\\partial d_i}{\\partial m_2} = \\frac{\\partial d_i}{\\partial y} = \\frac{T(\\mathbf{x}, \\mathbf{x}_i)}{\\partial x} = \\frac{(y-y_i)}{v}[(x - x_i)^2 + (y - y_i)^2 + z^2]^{-1/2}\n",
    "$$\n",
    "\n",
    "$$\n",
    "G_{i3} = \\frac{\\partial d_i}{\\partial m_3} = \\frac{\\partial d_i}{\\partial z} = \\frac{T(\\mathbf{x}, \\mathbf{x}_i)}{\\partial x} = \\frac{z}{v}[(x - x_i)^2 + (y - y_i)^2 + z^2]^{-1/2}\n",
    "$$\n",
    "\n",
    "$$\n",
    "G_{i4} = \\frac{\\partial d_i}{\\partial m_2} = \\frac{\\partial d_i}{\\partial t} = 1.\n",
    "$$"
   ]
  },
  {
   "cell_type": "code",
   "execution_count": 36,
   "id": "c60faa24",
   "metadata": {},
   "outputs": [
    {
     "name": "stdout",
     "output_type": "stream",
     "text": [
      "m0: [ 3  4 20  2]\n",
      "m1: [-1.8883404  -1.25445385  7.74832468  0.73696216]\n",
      "m2: [-0.19761565 -0.08380374 10.13144181  0.03990673]\n",
      "m3: [ 1.04849890e-04 -1.78674444e-04  1.00033252e+01 -8.10313095e-05]\n",
      "--------------\n",
      "mt: [ 0  0 10  0]\n"
     ]
    }
   ],
   "source": [
    "import numpy as np\n",
    "\n",
    "# true earthquake location\n",
    "m_true = np.array([0, 0, 10, 0])\n",
    "v = 5\n",
    "\n",
    "# station locations\n",
    "np.random.seed(1)\n",
    "nr = 10\n",
    "rcvs = np.zeros((nr, 3)) # receiver coordinates\n",
    "rcvs[:, :2] = np.random.uniform(-30, 30, (nr, 2)) # randomised x, y, z=0\n",
    "\n",
    "def forward_prob(m):\n",
    "    return np.linalg.norm(rcvs - m[0:3], axis=1) / v + m[3]\n",
    "\n",
    "data = forward_prob(m_true)\n",
    "\n",
    "def jacobian_mat(m):\n",
    "    dist = np.linalg.norm(rcvs - m[0:3], axis=1)\n",
    "    G = -np.ones((nr, 4))\n",
    "    G[:, :3] = np.einsum('ij,i->ij', (rcvs - m[0:3]), 1 / (v * dist))\n",
    "    return G\n",
    "\n",
    "m0 = np.array([3, 4, 20, 2])\n",
    "print ('m0:', m0)\n",
    "\n",
    "G0 = jacobian_mat(m0)\n",
    "delta_d = data - forward_prob(m0)\n",
    "delta_m = np.linalg.pinv(G0) @ delta_d\n",
    "m1 = m0 - delta_m\n",
    "print ('m1:', m1)\n",
    "\n",
    "G1 = jacobian_mat(m1)\n",
    "delta_d = data - forward_prob(m1)\n",
    "delta_m = np.linalg.pinv(G1) @ delta_d\n",
    "m2 = m1 - delta_m\n",
    "print ('m2:', m2)\n",
    "\n",
    "G2 = jacobian_mat(m2)\n",
    "delta_d = data - forward_prob(m2)\n",
    "delta_m = np.linalg.pinv(G2) @ delta_d\n",
    "m3 = m2 - delta_m\n",
    "print ('m3:', m3)\n",
    "\n",
    "print ('--------------')\n",
    "print ('mt:', m_true)"
   ]
  },
  {
   "cell_type": "markdown",
   "id": "2c9050fc",
   "metadata": {},
   "source": [
    "---\n",
    "## Gridsearh method"
   ]
  },
  {
   "cell_type": "code",
   "execution_count": null,
   "id": "0ac04bfc",
   "metadata": {},
   "outputs": [],
   "source": []
  },
  {
   "cell_type": "markdown",
   "id": "4f42fa7a",
   "metadata": {},
   "source": [
    "---\n",
    "# Linearized iteration"
   ]
  },
  {
   "cell_type": "markdown",
   "id": "94634294",
   "metadata": {},
   "source": [
    "---\n",
    "# Bayesian inference"
   ]
  }
 ],
 "metadata": {
  "kernelspec": {
   "display_name": "basic",
   "language": "python",
   "name": "python3"
  },
  "language_info": {
   "codemirror_mode": {
    "name": "ipython",
    "version": 3
   },
   "file_extension": ".py",
   "mimetype": "text/x-python",
   "name": "python",
   "nbconvert_exporter": "python",
   "pygments_lexer": "ipython3",
   "version": "3.12.1"
  }
 },
 "nbformat": 4,
 "nbformat_minor": 5
}

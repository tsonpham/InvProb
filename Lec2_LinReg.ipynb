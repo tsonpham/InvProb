{
 "cells": [
  {
   "cell_type": "code",
   "execution_count": 1,
   "id": "f25cc29a",
   "metadata": {},
   "outputs": [],
   "source": [
    "# Set retina display\n",
    "%config InlineBackend.figure_format = 'retina'"
   ]
  },
  {
   "cell_type": "code",
   "execution_count": null,
   "id": "ef0ce854",
   "metadata": {},
   "outputs": [
    {
     "name": "stdout",
     "output_type": "stream",
     "text": [
      "[16.40833333 96.97128788  9.40833333]\n",
      "8\n",
      "[[ 88.53333333 -33.6         -5.33333333]\n",
      " [-33.6         15.44242424   2.66666667]\n",
      " [ -5.33333333   2.66666667   0.48484848]]\n",
      "4.180959043560617\n"
     ]
    }
   ],
   "source": [
    "import numpy as np\n",
    "\n",
    "t = np.array([1, 2, 3, 4, 5, 6, 7, 8, 9, 10])\n",
    "y = np.array([109.4, 187.5, 267.5, 331.9, 386.1, 428.4, 452.2, 498.1, 512.3, 513.0])\n",
    "\n",
    "G = np.vstack([np.ones_like(t), t, -0.5*t**2]).T\n",
    "\n",
    "m_L2 = np.linalg.inv(G.T @ G) @ G.T @ y\n",
    "print (m_L2)\n",
    "\n",
    "sigma = 8#np.std(G @ m_L2 - y)\n",
    "print (sigma)\n",
    "\n",
    "cov_m_L2 = np.linalg.inv(G.T @ G) * sigma**2\n",
    "print (cov_m_L2)\n",
    "\n",
    "v = np.sum((G @ m_L2 - y)**2) / sigma**2\n",
    "print (v)\n",
    "\n",
    "# chisquare distribution\n",
    "from scipy.stats import chi2\n",
    "p_value = 1 - chi2.cdf(v, df=len(y)-len(m_L2))"
   ]
  }
 ],
 "metadata": {
  "kernelspec": {
   "display_name": "basic",
   "language": "python",
   "name": "python3"
  },
  "language_info": {
   "codemirror_mode": {
    "name": "ipython",
    "version": 3
   },
   "file_extension": ".py",
   "mimetype": "text/x-python",
   "name": "python",
   "nbconvert_exporter": "python",
   "pygments_lexer": "ipython3",
   "version": "3.12.1"
  }
 },
 "nbformat": 4,
 "nbformat_minor": 5
}
